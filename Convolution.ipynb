{
 "cells": [
  {
   "cell_type": "code",
   "execution_count": null,
   "metadata": {
    "vscode": {
     "languageId": "plaintext"
    }
   },
   "outputs": [],
   "source": [
    "import numpy as np\n",
    "import matplotlib.pyplot as plt\n",
    "from scipy.signal import convolve2d\n",
    "from PIL import Image\n",
    "\n",
    "# Load an image of '6' (ensure it's a black background with a white number)\n",
    "image_path = \"6 in Background (1).png\"  # Replace with actual path\n",
    "image = Image.open(image_path).convert(\"L\")  # Convert to grayscale\n",
    "image = np.array(image) / 255.0  # Normalize to [0,1]\n",
    "\n",
    "# Convert the white '6' to 1 and black background to -1\n",
    "image = np.where(image > 0.5, 1, -1)\n",
    "\n",
    "# Define the 10x10 C-shaped filter (Kernel)\n",
    "c_shape_filter = np.array([\n",
    "    [-1, -1,  1,  1,  1,  1, -1, -1, -1, -1],\n",
    "    [-1,  1, -1, -1, -1, -1, -1, -1, -1, -1],\n",
    "    [ 1, -1, -1, -1, -1, -1, -1, -1, -1, -1],\n",
    "    [ 1, -1, -1, -1, -1, -1, -1, -1, -1, -1],\n",
    "    [ 1, -1, -1, -1, -1, -1, -1, -1, -1, -1],\n",
    "    [ 1, -1, -1, -1, -1, -1, -1, -1, -1, -1],\n",
    "    [ 1, -1, -1, -1, -1, -1, -1, -1, -1, -1],\n",
    "    [ 1, -1, -1, -1, -1, -1, -1, -1, -1, -1],\n",
    "    [-1,  1, -1, -1, -1, -1, -1, -1, -1, -1],\n",
    "    [-1, -1,  1,  1,  1,  1, -1, -1, -1, -1]\n",
    "])\n",
    "\n",
    "# Apply convolution\n",
    "convolved_output = convolve2d(image, c_shape_filter, mode='same', boundary='fill', fillvalue=-1)\n",
    "\n",
    "# Display the original image and the convolved output\n",
    "fig, ax = plt.subplots(1, 2, figsize=(12, 6))\n",
    "\n",
    "ax[0].imshow(image, cmap='gray', interpolation='nearest')\n",
    "ax[0].set_title(\"Original Image of '6'\")\n",
    "ax[0].axis('off')\n",
    "\n",
    "ax[1].imshow(convolved_output, cmap='gray', interpolation='nearest')\n",
    "ax[1].set_title(\"After Convolution with C-shaped Filter\")\n",
    "ax[1].axis('off')\n",
    "\n",
    "plt.show()"
   ]
  }
 ],
 "metadata": {
  "language_info": {
   "name": "python"
  }
 },
 "nbformat": 4,
 "nbformat_minor": 2
}
